{
 "cells": [
  {
   "cell_type": "raw",
   "id": "1554da41-d748-4b14-a749-466d6c86c57c",
   "metadata": {},
   "source": [
    "---\n",
    "title: \"Building a Portfolio Website with LLM's Pt. 1\"\n",
    "description: \"A post from a Jupyter notebook\"\n",
    "author: \"Zaria Dancer\"\n",
    "date: \"3/14/2024\"\n",
    "categories:\n",
    "  - LLMs\n",
    "  - prompting\n",
    "  - website \n",
    "---"
   ]
  },
  {
   "cell_type": "markdown",
   "id": "4e6e1cba-7cc8-436e-a5db-c4e20a88794b",
   "metadata": {},
   "source": [
    "# The Beginning of Building a Portfolio Website (Part 1)"
   ]
  },
  {
   "cell_type": "markdown",
   "id": "ebd38d7e-f19c-446b-b3da-b0e3b794edf0",
   "metadata": {},
   "source": [
    "Welcome back to my blog! Recently, I have been interested in leveraging Artificial Intelligence to create more physical outputs that I can integrate + use in my daily life. As a COMM, Data & Network Science, and Consumer Psych student passionate about data-driven growth and creativity, I would really like to create an online portfolio that showcases work I have completed. This is the beginning and first part to a process of hopefully creating a portfolio website. I am beginning with Gemini and will compare outputs from different LLMs, merging the options I feel are best for my portfolio. below, you can see my original prompt. "
   ]
  },
  {
   "cell_type": "markdown",
   "id": "ab0a070f-84d5-4361-90f3-a7d8f37bc595",
   "metadata": {},
   "source": [
    "    My Original Prompt: I want to build a website portfolio for free. I want to include my creative endeavors, my research, my work with AI. How can I start? Can you help me build this?"
   ]
  },
  {
   "cell_type": "markdown",
   "id": "951d9be9-0a27-49e1-910c-3e70c831ef85",
   "metadata": {},
   "source": [
    "## **Gemini's Response**"
   ]
  },
  {
   "cell_type": "markdown",
   "id": "717b261f-79de-4ba4-8322-fee92b5e373b",
   "metadata": {},
   "source": [
    "Absolutely! Building a free website portfolio to showcase your creative and technical sides is a great way to impress potential employers or collaborators. Here's how you can approach this:\n",
    "\n",
    "**Choosing a platform:**\n",
    "\n",
    "There are two main options for free website creation:\n",
    "\n",
    "Website Builders: These platforms offer user-friendly interfaces with drag-and-drop functionalities. They often have free plans with limitations like storage space or custom domain names (instead of a generic subdomain).  Some popular options include Wix, Canva, and Crevado. These are great for beginners with no coding experience.\n",
    "\n",
    "Self-hosting with Github Pages: This method involves a bit more technical know-how but offers more control and flexibility. You build your website locally using HTML, CSS, and Javascript (or website building frameworks), and then upload it to Github Pages for free hosting. There are many tutorials available online to get you started with Github Pages [YouTube how to create a portfolio website for free].\n",
    "\n",
    "**What to include:**\n",
    "\n",
    "Homepage: A clear and concise introduction highlighting your skills and experience. Include a captivating visual element and a brief bio.\n",
    "\n",
    "Project Section: Dedicate separate pages or sections to showcase your creative work (art, design, writing, etc.), research projects, and AI projects. Use high-quality visuals, clear descriptions, and links to any relevant online content.\n",
    "\n",
    "Contact Section: Make it easy for potential employers or collaborators to reach you. Include your email address and links to your professional social media profiles (LinkedIn, etc.).\n",
    "\n",
    "**Building your website:**\n",
    "\n",
    "If you choose a website builder, explore their free templates and pick one that suits your style.  Canva offers free portfolio-specific templates that are easy to customize. You can drag-and-drop elements, upload your content, and personalize the design with your own fonts and colors.\n",
    "\n",
    "For Github Pages, you'll need to learn some basic coding. There are many online resources and tutorials to get you started. Here's a benefit -  the skills you learn will be valuable in the long run, especially if you're interested in AI or web development.\n",
    "\n",
    "**Additional Tips:**\n",
    "\n",
    "Mobile-friendliness: Ensure your website looks good and functions well on all devices (desktops, tablets, phones).\n",
    "Keep it simple and clean: Don't clutter your website with too much information or complex design elements.\n",
    "\n",
    "Focus on your best work: Highlight your strongest projects that showcase your abilities.\n",
    "\n",
    "Proofread carefully: Ensure there are no typos or grammatical errors.\n",
    "\n",
    "Remember, this is your online presence, so make sure it reflects your personality and professionalism. With some effort and creativity, you can build a free portfolio website that effectively showcases your skills and accomplishments."
   ]
  },
  {
   "cell_type": "markdown",
   "id": "4b6889e3-796d-4194-9b5f-25c8d8816526",
   "metadata": {},
   "source": [
    "    I want to use self-hosting with Github Pages. What is my first step?"
   ]
  },
  {
   "cell_type": "markdown",
   "id": "a74cc38b-6ddd-425a-91e7-e95a2a1312a0",
   "metadata": {},
   "source": [
    "The first step for self-hosting with Github Pages involves creating a GitHub account and a new repository specifically named for your portfolio website. Here's a breakdown:\n",
    "\n",
    "Create a Github Account: If you don't have one already, head over to https://github.com/ and sign up for a free account.\n",
    "\n",
    "Create a New Repository: Once logged in, navigate to the \"Repositories\" section on your Github dashboard. Click the green \"New repository\" button.\n",
    "\n",
    "Name your Repository: Here's the crucial part -  for Github Pages to automatically publish your website, the repository name needs to follow a specific format: username.github.io (replace \"username\" with your actual Github username).\n",
    "\n",
    "Important Note:  Make sure the repository name exactly follows this format \".github.io\" at the end, otherwise Github Pages won't recognize it for hosting.\n",
    "\n",
    "Once you've named your repository and added a brief description (optional), click the \"Create repository\" button. This creates your empty website foundation on Github.\n",
    "\n",
    "Congratulations! You've completed the first step towards building your self-hosted portfolio website with Github Pages.\n",
    "\n",
    "In the next steps, you'll focus on building the website content locally using HTML, CSS, and Javascript (or a website building framework), and then pushing those files to your newly created Github repository.\n",
    "\n",
    "Here are some resources that will be helpful as you move forward:\n",
    "\n",
    "Official Github Pages documentation: https://docs.github.com/pages\n",
    "Tutorial on creating a portfolio website with Github Pages: [YouTube how to create a portfolio website for free]"
   ]
  },
  {
   "cell_type": "markdown",
   "id": "85a25612-3618-42d7-bd1d-b9b44152e4de",
   "metadata": {},
   "source": [
    "___________________________________________________________"
   ]
  },
  {
   "cell_type": "markdown",
   "id": "2ddbd273-0956-4fd3-9d5b-9193c2cc6882",
   "metadata": {},
   "source": [
    "I already have a Github Account, so I will name my new Repository in the same format provided -  username.github.io"
   ]
  },
  {
   "cell_type": "markdown",
   "id": "56316c1b-9b3d-406e-aeac-377b0af83e5c",
   "metadata": {},
   "source": [
    "_______________________________________________________________________________________________"
   ]
  },
  {
   "cell_type": "markdown",
   "id": "cfb99cea-957f-4df2-b129-8a753f70643a",
   "metadata": {},
   "source": [
    "Excellent!  With your Github repository created specifically as \"username.github.io\" (replacing username with your actual username), you've laid the foundation for your website.  Here's how to proceed:\n",
    "\n",
    "Local Development:\n",
    "Github Pages works by hosting static content, which means your website needs to be built using HTML, CSS, and Javascript. You'll need to develop your website locally on your computer before uploading it to Github.\n",
    "\n",
    "There are two main approaches for local development:\n",
    "\n",
    "Manual Coding: This involves writing the HTML, CSS, and Javascript code yourself from scratch. While offering the most control and flexibility, it requires some coding knowledge.\n",
    "\n",
    "Website Building Frameworks: These frameworks provide pre-built structures and functionalities to simplify website development. Popular options include Bootstrap, Foundation, and Jekyll. They offer templates and tools to help you build your website without extensive coding.\n",
    "\n",
    "Resources:\n",
    "\n",
    "You can find many online tutorials for learning HTML, CSS, and Javascript.\n",
    "For website building frameworks, explore their official documentation for detailed instructions:\n",
    "Bootstrap - https://getbootstrap.com/\n",
    "Foundation - https://get.foundation/frameworks-docs.html\n",
    "Jekyll - https://jekyllrb.com/\n",
    "Setting Up Local Environment:\n",
    "Whichever approach you choose, you'll need a code editor to write and edit your website files. Popular options include Visual Studio Code, Atom, or Sublime Text.\n",
    "\n",
    "Building Your Website:\n",
    "Start by creating the basic structure of your portfolio website using HTML files for different pages (homepage, project pages, etc.). Use CSS to style your website and make it visually appealing. You can leverage Javascript for interactive elements or animations (optional).\n",
    "\n",
    "Pushing to Github:\n",
    "Once you're happy with your local website,  use Git commands or the Github desktop application to push your website files to your \"username.github.io\" repository on Github. This makes your website live and accessible through the URL \"username.github.io\".\n",
    "\n",
    "Additional Resources:\n",
    "\n",
    "For a step-by-step guide on creating a Github Pages website, refer to the official documentation: https://docs.github.com/pages\n",
    "There are many online tutorials on creating a portfolio website with Github Pages. You can search for \"[YouTube how to create a portfolio website with Github Pages]\".\n",
    "Remember, building a website takes time and effort. Don't be discouraged if it takes a while to get the hang of it. There are many resources available online to help you through the process.  Feel free to ask if you have any specific questions about HTML, CSS, Javascript, or website building frameworks as you move forward!"
   ]
  },
  {
   "cell_type": "markdown",
   "id": "c9e1066f-2d1d-4631-8258-742aa6a583a8",
   "metadata": {},
   "source": [
    "_____________________________________________________________________________________________"
   ]
  },
  {
   "cell_type": "markdown",
   "id": "648c31cd-6ea2-4621-8fc6-f7ae43b08e4e",
   "metadata": {},
   "source": [
    "As I progress through this process, I will continue to document and update my blog, so others can follow along. I'm hoping this process will produce a working portfolio and allow me to continue honing my coding skills! "
   ]
  },
  {
   "cell_type": "code",
   "execution_count": null,
   "id": "16475b1e-c312-4c11-a2b9-2ef5bceeba6e",
   "metadata": {},
   "outputs": [],
   "source": []
  }
 ],
 "metadata": {
  "citation-manager": {
   "items": {}
  },
  "kernelspec": {
   "display_name": "Python 3.11 (COMM4190)",
   "language": "python",
   "name": "comm4190"
  },
  "language_info": {
   "codemirror_mode": {
    "name": "ipython",
    "version": 3
   },
   "file_extension": ".py",
   "mimetype": "text/x-python",
   "name": "python",
   "nbconvert_exporter": "python",
   "pygments_lexer": "ipython3",
   "version": "3.11.7"
  }
 },
 "nbformat": 4,
 "nbformat_minor": 5
}
