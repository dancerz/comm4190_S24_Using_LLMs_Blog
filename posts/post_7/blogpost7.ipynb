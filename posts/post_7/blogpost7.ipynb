{
 "cells": [
  {
   "cell_type": "raw",
   "id": "641434f8-8884-43f7-bf13-f2f99af7b593",
   "metadata": {},
   "source": [
    "---\n",
    "title: \"Language Learning with LLM's Pt. 2\"\n",
    "description: \"A post from a Jupyter notebook\"\n",
    "author: \"Zaria Dancer\"\n",
    "date: \"3/10/2024\"\n",
    "categories:\n",
    "  - LLMs\n",
    "  - prompting\n",
    "  - language\n",
    "---"
   ]
  },
  {
   "cell_type": "markdown",
   "id": "ad706232-f607-43c0-938f-2712fa9f2ef3",
   "metadata": {},
   "source": [
    "# Russian Lessons (Part 1)"
   ]
  }
 ],
 "metadata": {
  "citation-manager": {
   "items": {}
  },
  "kernelspec": {
   "display_name": "Python 3.11 (COMM4190)",
   "language": "python",
   "name": "comm4190"
  },
  "language_info": {
   "codemirror_mode": {
    "name": "ipython",
    "version": 3
   },
   "file_extension": ".py",
   "mimetype": "text/x-python",
   "name": "python",
   "nbconvert_exporter": "python",
   "pygments_lexer": "ipython3",
   "version": "3.11.7"
  }
 },
 "nbformat": 4,
 "nbformat_minor": 5
}
