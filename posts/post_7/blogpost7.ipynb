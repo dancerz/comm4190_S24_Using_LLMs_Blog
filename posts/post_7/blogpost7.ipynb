{
 "cells": [
  {
   "cell_type": "raw",
   "id": "641434f8-8884-43f7-bf13-f2f99af7b593",
   "metadata": {},
   "source": [
    "---\n",
    "title: \"Language Learning with LLM's Pt. 2\"\n",
    "description: \"A post from a Jupyter notebook\"\n",
    "author: \"Zaria Dancer\"\n",
    "date: \"3/10/2024\"\n",
    "categories:\n",
    "  - LLMs\n",
    "  - prompting\n",
    "  - language\n",
    "---"
   ]
  },
  {
   "cell_type": "markdown",
   "id": "ad706232-f607-43c0-938f-2712fa9f2ef3",
   "metadata": {},
   "source": [
    "# Russian Lessons"
   ]
  },
  {
   "cell_type": "markdown",
   "id": "aa0d78a8-d439-4253-8c8b-d3a6b9c4e439",
   "metadata": {},
   "source": [
    "## Gemini"
   ]
  },
  {
   "cell_type": "markdown",
   "id": "617bf127-8d8e-40e6-bc22-25fba39cf6bd",
   "metadata": {},
   "source": [
    "    I asked for \"intermediate - advanced Russian language questions\". These questions were ok, but I want questions with more grammar and rigor. "
   ]
  },
  {
   "cell_type": "markdown",
   "id": "03a2b363-2109-4f5e-b152-09ead3210552",
   "metadata": {},
   "source": [
    "Мудреные русские вопросы! (Tricky Russian Questions!) - Intermediate to Advanced\n",
    "\n",
    " Инструкции: Выберите ответ, который лучше всего подходит по смыслу. (Instructions: Choose the answer that best fits the meaning.)\n",
    "\n",
    " 1. Несмотря на то, что Иван учил весь день, он всё равно провалил экзамен.  Это заставило его чувствовать себя...  (Even though Ivan studied all day, he still failed the exam. This made him feel...)\n",
    "\n",
    " a) восторженным (vostorzhennym - delighted)\n",
    " \n",
    "b) подавленным (podavlennym - depressed)\n",
    "\n",
    "c) ленивым (lenivym - lazy)\n",
    "\n",
    "d) удивленным (udivlennym - surprised)\n",
    "\n",
    " 2. Когда Маша опоздала на работу, она придумала ... , чтобы объяснить своё опоздание начальнику.  (When Masha was late for work, she came up with a ... to explain her lateness to her boss.)\n",
    "\n",
    " a) благодарность (blagodarnoct' - gratitude)\n",
    " \n",
    "b) оправдание (opravdanie - justification)\n",
    "\n",
    "c) приветствие (privetsvie - greeting)\n",
    "\n",
    "d) наказание (nakazanie - punishment)\n",
    "\n",
    " 3. Профессор говорил так быстро, что студенты с трудом ... его лекцию.  (The professor spoke so quickly that the students had difficulty ... his lecture.)\n",
    "\n",
    " a) понимали (ponimali - understood)\n",
    " \n",
    "b) читали (chitali - read)\n",
    "\n",
    "c) писали (pisali - wrote)\n",
    "\n",
    "d) забывали (zabyvali - forgot)\n",
    "\n",
    " 4. Этот фильм настолько ... , что я не мог оторваться от экрана.  (This movie was so ... , that I couldn't take my eyes off the screen.)\n",
    "\n",
    " a) скучный (skuchaynyi - boring)\n",
    " \n",
    "b) интересный (interesnyi - interesting)\n",
    "\n",
    "c) длинный (dlinnyi - long)\n",
    "\n",
    "d) короткий (korotkii - short)\n",
    "\n",
    " 5. Для того чтобы улучшить свои навыки разговорного русского языка, вам следует ... с носителями языка.  (In order to improve your conversational Russian skills, you should ... with native speakers.)\n",
    "\n",
    " a) спорить (sporit' - argue)\n",
    " \n",
    "b) общаться (obshchat'sya - communicate)\n",
    "\n",
    "c) критиковать (kritikovat' - criticize)\n",
    "\n",
    "d) хвастаться (khvastatsya - brag)\n",
    "\n",
    " Бонусный вопрос: (Bonus question)\n",
    "\n",
    " Какое образное средство используется в следующем предложении? (What figurative language is used in the following sentence?)\n",
    "\n",
    " «Луна сияла, как бриллиант в ночном небе.»  (\"The moon shone like a diamond in the night sky.\")\n",
    "\n",
    " a) Метафора (Metafora - Metaphor)\n",
    " \n",
    "b) Сравнение (Sravnenie - Simile)\n",
    "\n",
    "c) Гипербола (Giperbola - Hyperbole)\n",
    "\n",
    "d) Олицетворение (Olitsetvorenie - Personification)\n",
    "\n",
    " Ключ ответов: (Answer Key)\n",
    "\n",
    "b) подавленным\n",
    "\n",
    "b) оправдание\n",
    "\n",
    "a) понимали\n",
    "\n",
    "b) интересный\n",
    "\n",
    "b) общаться Бонусный ответ: a) Метафора"
   ]
  },
  {
   "cell_type": "markdown",
   "id": "ecee4520-551a-44b8-84ed-663289c91224",
   "metadata": {},
   "source": [
    "# ChatGPT"
   ]
  },
  {
   "cell_type": "markdown",
   "id": "5371ebd1-9d65-457d-a9ed-49c9809df7b5",
   "metadata": {},
   "source": [
    "    Prompt: Can you come up with intermediate-advanced Russian grammar and language questions?"
   ]
  },
  {
   "cell_type": "markdown",
   "id": "2566603a-d841-487e-b5ea-9a140e3d90dc",
   "metadata": {},
   "source": [
    "Certainly! Here are some intermediate to advanced Russian grammar and language questions designed to challenge and improve your understanding of the language:\n",
    "\n",
    "Grammar Questions\n",
    "Conjugate the verb \"читать\" (to read) in the past tense for all persons and genders.\n",
    "\n",
    "Translate the following sentence into Russian, using the correct case for each noun:\n",
    "\"The book on the table belongs to my sister's friend.\"\n",
    "\n",
    "Formulate a complex sentence using a participle construction (деепричастный оборот) with the verb \"учиться\" (to study).\n",
    "\n",
    "Explain the difference in usage between \"чтобы\" and \"для того чтобы.\" Provide example sentences.\n",
    "\n",
    "Translate the following sentences into Russian, paying attention to aspect (perfective/imperfective):\n",
    "a. \"I was reading the book when he called.\"\n",
    "b. \"I will have finished the book by tomorrow.\"\n",
    "\n",
    "Construct a sentence using a relative clause with the word \"который.\"\n",
    "\n",
    "Explain the use of the instrumental case after the verb \"являться\" and provide an example sentence.\n",
    "\n",
    "Translate the following sentence into Russian, correctly using reflexive verbs:\n",
    "\"She remembers everything that happened yesterday.\"\n",
    "\n",
    "Use a gerund (деепричастие) to combine the following two actions into one sentence:\n",
    "\"He entered the room. He was smiling.\"\n",
    "\n",
    "Explain the difference between the use of \"несмотря на\" and \"вопреки\" and provide example sentences.\n",
    "\n",
    "Vocabulary and Usage Questions\n",
    "Provide synonyms for the following Russian words and use them in sentences:\n",
    "a. Быстро (fast)\n",
    "\n",
    "b. Красивый (beautiful)\n",
    "\n",
    "c. Говорить (to speak)\n",
    "\n",
    "Translate the following idiomatic expressions into Russian:\n",
    "a. \"Break the ice\"\n",
    "\n",
    "b. \"Kill two birds with one stone\"\n",
    "\n",
    "Choose the correct word to complete the sentence and explain your choice:\n",
    "\"Он приехал в Москву, чтобы _____ русский язык.\"\n",
    "\n",
    "a. изучить\n",
    "\n",
    "b. учить\n",
    "\n",
    "c. научиться\n",
    "\n",
    "Write a short paragraph about your favorite holiday in Russian, using a variety of tenses and cases.\n",
    "\n",
    "Explain the use of \"же\" in the following sentence and provide two more sentences using \"же\":\n",
    "\"Это же просто невероятно!\"\n",
    "\n",
    "Describe the difference in meaning and usage between \"знать\" and \"уметь.\" Provide example sentences.\n",
    "\n",
    "Translate the following sentences into Russian, ensuring proper word order and idiomatic expressions:\n",
    "a. \"It's raining cats and dogs.\"\n",
    "b. \"He hit the nail on the head.\"\n",
    "\n",
    "Formulate a polite request in Russian using the conditional mood (условное наклонение).\n",
    "\n",
    "Explain the usage of double negatives in Russian and provide an example sentence.\n",
    "\n",
    "Describe the cultural significance of one Russian holiday or tradition in Russian, using advanced vocabulary and grammatical structures.\n",
    "\n",
    "These questions should provide a good mix of grammar and vocabulary challenges for an intermediate to advanced learner of Russian."
   ]
  },
  {
   "cell_type": "markdown",
   "id": "b0d31d3b-6ee5-41c4-b3dd-c90ba81d16d8",
   "metadata": {},
   "source": [
    "## Gemini's Response"
   ]
  },
  {
   "cell_type": "markdown",
   "id": "410f9cd6-b125-4c2f-87f4-fea0d40279c7",
   "metadata": {},
   "source": [
    "I preferred ChatGPT's questions and format, so I decided to see how Gemini would answer GPT's questions. I liked ChatGPT'"
   ]
  },
  {
   "cell_type": "markdown",
   "id": "912d2669-a747-457e-aedd-ba6b230ae9c0",
   "metadata": {},
   "source": [
    "<img src=\"con.png\" width=\"100%\"/>"
   ]
  },
  {
   "cell_type": "markdown",
   "id": "3e760a70-a2d2-47e5-baf4-67d314706f74",
   "metadata": {},
   "source": [
    "# ChatGPT's Answer Key "
   ]
  },
  {
   "cell_type": "code",
   "execution_count": null,
   "id": "51532288-d9ba-450e-8c1b-1723cabf9661",
   "metadata": {},
   "outputs": [],
   "source": []
  }
 ],
 "metadata": {
  "citation-manager": {
   "items": {}
  },
  "kernelspec": {
   "display_name": "Python 3.11 (COMM4190)",
   "language": "python",
   "name": "comm4190"
  },
  "language_info": {
   "codemirror_mode": {
    "name": "ipython",
    "version": 3
   },
   "file_extension": ".py",
   "mimetype": "text/x-python",
   "name": "python",
   "nbconvert_exporter": "python",
   "pygments_lexer": "ipython3",
   "version": "3.11.7"
  }
 },
 "nbformat": 4,
 "nbformat_minor": 5
}
