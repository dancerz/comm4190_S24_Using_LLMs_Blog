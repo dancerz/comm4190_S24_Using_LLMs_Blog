{
 "cells": [
  {
   "cell_type": "code",
   "execution_count": null,
   "id": "361a2c30-a364-4798-a465-c8806187109f",
   "metadata": {},
   "outputs": [],
   "source": [
    "---\n",
    "title: \"Leveraging LLM's to Find Graduation Dresses\"\n",
    "description: \"A post from a Jupyter notebook\"\n",
    "author: \"Zaria Dancer\"\n",
    "date: \"4/1/2024\"\n",
    "categories:\n",
    "  - LLMs\n",
    "  - prompting\n",
    "  - shopping\n",
    "---"
   ]
  },
  {
   "cell_type": "markdown",
   "id": "fa2a521e-ca7a-435a-aad5-67eccb9c3717",
   "metadata": {},
   "source": [
    "# LLMs Looking for Graduation Dresses"
   ]
  },
  {
   "cell_type": "markdown",
   "id": "3f6a323e-c48f-4691-83ae-234835ba77bf",
   "metadata": {},
   "source": [
    "I graduate next week and I need two dresses. I currently have one, but I would like options. I am hoping that AI will assist me in my search process by providing possible websites and options. I began with Gemini and ChatGPT, but realized that Gemini could supply physical links to possible products. This Blog Post documents my conversations with LLM's to improve my shopping experience. "
   ]
  },
  {
   "cell_type": "markdown",
   "id": "74355410-ed8d-499f-9bb4-26474523d2aa",
   "metadata": {},
   "source": [
    "Prompt:\n",
    "\n",
    "    I am graduating from college and I need to find a white dress. Make a list of places I can use to shop online. My Budget is $375, but I would ideally want to buy two dresses. I need fast shipping and quality options. "
   ]
  },
  {
   "cell_type": "markdown",
   "id": "2f9052ea-5a2c-4e3c-bcc1-1287df3cac5b",
   "metadata": {},
   "source": [
    "## Gemini's Response"
   ]
  },
  {
   "cell_type": "markdown",
   "id": "edf5a4b9-3306-4fe4-90a0-3a471f7267b0",
   "metadata": {},
   "source": [
    "Here are some online stores you can check out to find white graduation dresses with fast shipping and quality options, keeping in mind your budget of $375 for two dresses:\n",
    "\n",
    "**Lulu's** offers a wide range of graduation dresses, including white ones, that are all under $375. They have a large selection of styles to choose from, so you're sure to find something that you love. Plus, they offer fast shipping options, so you can get your dress in time for graduation.\n",
    "\n",
    "https://www.lulus.com\n",
    "\n",
    "**Showpo** is another great option for affordable graduation dresses. They have a large selection of white dresses in a variety of styles, all for under $375. They also offer fast shipping options, so you can get your dress in time for graduation.\n",
    "Opens in a new window \n",
    "\n",
    "https://www.showpo.com\n",
    "\n",
    "\n",
    "ASOS is a great place to find trendy and stylish graduation dresses. They have a wide variety of white dresses in a variety of styles, all for under $375. They also offer fast shipping options, so you can get your dress in time for graduation.\n",
    "\n",
    " https://www.asos.com/us/\n",
    "\n",
    "Reformation offers sustainable and well-made dresses that are perfect for graduation. They have a smaller selection of white dresses, but the ones they do have are all beautiful and well-made. While some of their dresses might be outside your budget on their own, with strategic shopping you could find two that fit the bill. Their shipping times are also generally quite fast.\n",
    "\n",
    "https://www.thereformation.com\n",
    "\n",
    "\n",
    "Rent the Runway is a great option if you want to wear a designer dress for graduation without breaking the bank. They have a large selection of white dresses from top designers, and you can rent them for a fraction of the retail price. Their dresses tend to be more on the high-end and may not all fit within your budget, but it's worth checking out their selection, especially if you know exactly what designer dress you want.\n",
    "\n",
    "https://www.renttherunway.com\n",
    "\n",
    "\n",
    " Here are some tips for shopping for graduation dresses online:\n",
    "\n",
    "Read the reviews: Before you buy a dress, be sure to read the reviews from other customers. This can help you get a sense of the quality of the dress and the sizing.\n",
    "\n",
    "Order a size up: If you're between sizes, it's always better to order a size up. You can always have the dress altered to fit you perfectly.\n",
    "\n",
    "Consider the return policy: Make sure you know the return policy before you buy a dress. This way, you can be sure that you can return the dress if it doesn't fit or if you don't like it.\n",
    "Shop early: The closer you get to graduation, the more likely it is that dresses will sell out. So be sure to start shopping early so that you have a wider selection to choose from."
   ]
  },
  {
   "cell_type": "markdown",
   "id": "58bb348a-f58e-46d1-b0b3-1adee64f1eb3",
   "metadata": {},
   "source": [
    "      I want something more unique, classy, and quality. I want to be able to wear these dresses again. I am open to vintage and designer options as well. My favorite option out of the ones supplied is Reformation."
   ]
  },
  {
   "cell_type": "markdown",
   "id": "f17ecdff-66a9-4244-9ad7-5ea3b8337272",
   "metadata": {},
   "source": [
    "Since you're looking for classy, high-quality white dresses that you can wear again, here are some refined options that cater to your preferences and budget:\n",
    "\n",
    "Reformation (Budget-friendly designer)**  is a perfect choice! They focus on sustainable, well-made dresses with classic silhouettes that can easily transition to other events.  Here are some ways to maximize your budget:\n",
    "\n",
    "Focus on the Sale Section: Reformation has a dedicated sale section where you might find hidden gems at a discounted price. Look for dresses made from high-quality materials like silk or linen that would normally be outside your budget.\n",
    "Department Store Luxury Options:  Many department stores have dedicated designer sections where you can find dresses within your budget, especially if you consider pre-owned:\n",
    "\n",
    "\n",
    "www.nordstrom.com\n",
    "Nordstrom online store\n",
    "has a great selection of contemporary and designer dresses. Consider their \"pre-owned\" section where you might find gently used designer dresses for a fraction of the original price. They also offer free shipping and returns which can be helpful!\n",
    "\n",
    "www.premiumoutlets.com\n",
    "Bloomingdale's online store\n",
    "similar to Nordstrom, Bloomingdale's offers a wide range of designer dresses. They also have a pre-owned section where you can find gently used designer pieces at a significant discount. They offer free shipping and returns on most orders.\n",
    "\n",
    "\n",
    "www.saksfifthavenue.com\n",
    "Saks Fifth Avenue online store\n",
    "might have some options outside your budget, but they are known for their designer selection, and occasionally have sales that can bring the price down. It's worth checking out their website or app, especially during special promotions.\n",
    "Vintage Websites:\n",
    "\n",
    "The RealReal \n",
    "RealReal online store\n",
    "is a curated marketplace for pre-owned luxury goods. You can find a great selection of vintage designer dresses here, and they authenticate everything before it's listed for sale. While some dresses may be above your budget, with strategic searching you might find the perfect dress at a significant discount.\n",
    "Things to Consider When Shopping Online for Vintage or Designer Dresses:\n",
    "\n",
    "Measurements: Pay close attention to the measurements listed for the dress. Since you can't try it on beforehand, ensure the measurements align well with yours.\n",
    "Condition: When shopping pre-owned, be sure to read the description carefully about the condition of the dress. Look for high-quality photos that allow you to see the details of the dress.\n",
    "Return Policy: Check the return policy before you buy, especially when shopping vintage or pre-owned. This way, you can be sure you can return the dress if it doesn't fit or isn't as described.\n",
    "Additional Tips:\n",
    "\n",
    "Tailoring is your friend: Even if you find a dress that almost fits perfectly, a tailor can make small adjustments to ensure a flawless look.\n",
    "Classic silhouettes are timeless: A sheath dress, a wrap dress, or a fit-and-flare dress are all classic silhouettes that will never go out of style.\n",
    "Invest in quality fabrics: Look for dresses made from natural fibers like silk, linen, or cotton. These fabrics will drape better and last longer.\n",
    "With a little effort, you should be able to find two beautiful white graduation dresses that you can wear and treasure for years to come!"
   ]
  },
  {
   "cell_type": "markdown",
   "id": "7cac170c-4a5f-458b-99af-31c2e57c90ab",
   "metadata": {},
   "source": [
    "----------------------"
   ]
  },
  {
   "cell_type": "markdown",
   "id": "02aa8864-b82c-4f41-9d68-2fc159f4a42d",
   "metadata": {},
   "source": [
    "*Many of the recommendations are places I have already looked, which is not super helpful. I already found one dress on **ShopBop** before attempting to use LLMs. I'm going to continue framing my prompts specifically and trying to pull more likeable options.* "
   ]
  },
  {
   "cell_type": "markdown",
   "id": "a61a6fe3-2b54-4e7f-87b8-6a2e48c554bd",
   "metadata": {},
   "source": [
    "Below, you can see Gemini actually provide a link to an option. **I just asked for an actual option** Moving forward, I would love to see an entire list of options with links. "
   ]
  },
  {
   "cell_type": "markdown",
   "id": "6267afe8-d5c5-430e-b4c9-e6572458b72a",
   "metadata": {},
   "source": [
    "<img src=\"refdress.png\" width=\"100%\"/>"
   ]
  },
  {
   "cell_type": "markdown",
   "id": "51952602-215e-4425-a011-2d131f74edf9",
   "metadata": {},
   "source": [
    "https://us.vestiairecollective.com/women-clothing/dresses/reformation/white-linen-reformation-dress-42383851.shtml"
   ]
  },
  {
   "cell_type": "markdown",
   "id": "73226056-d5f4-4e53-b8eb-d3fd6e2f485d",
   "metadata": {},
   "source": [
    "        Thank you for these options. Could you find me a dress that is not on a 2nd hand site or platform. The Budget is $375. I like all lengths. For sleeves, I prefer sleeveless to strapless. I am fine with most necklines. For fit, I would like something that fits the waist well or something flows. I prefer quality materials: Silk, Linen, Cotton, Wool, Leather, etc. I would like something unique and classy. My dress size is a US 4/Small. Can you please create a list of possible options with links. "
   ]
  },
  {
   "cell_type": "markdown",
   "id": "a0b87784-f909-45af-a67d-77a010c21211",
   "metadata": {},
   "source": [
    "<img src=\"geminidress.png\" width=\"100%\"/>"
   ]
  },
  {
   "cell_type": "markdown",
   "id": "b4038b66-85dc-4ff6-992a-b60903ff76ff",
   "metadata": {},
   "source": [
    "Here is where everything decreased in quality, since the responses included options that clearly did not fit my guidelines. As you can see above, this dress is black. There were also other options outside of my price range and on 2nd hand sites (at first I was okay with vintage, but then I minimized that to help receive tailored options). "
   ]
  },
  {
   "cell_type": "markdown",
   "id": "39258275-3355-413c-8469-b33841a0b492",
   "metadata": {},
   "source": [
    "---------------------"
   ]
  },
  {
   "cell_type": "markdown",
   "id": "b1dcb598-8cc0-4c7b-9506-8c2b5985d75e",
   "metadata": {},
   "source": [
    "## ChatGPT's Response"
   ]
  },
  {
   "cell_type": "markdown",
   "id": "0eb59340-18bd-438a-95c1-daf693b7993b",
   "metadata": {},
   "source": [
    "Congratulations on your graduation! It's great that you're looking for white dresses online. With your budget and preferences in mind, here's a list of online stores where you can find quality white dresses with fast shipping options:\n",
    "\n",
    "ASOS:\n",
    "\n",
    "ASOS offers a wide range of affordable and stylish white dresses.\n",
    "They often have sales and promotions that can fit within your budget.\n",
    "Fast shipping options are available, including express delivery.\n",
    "\n",
    "Nordstrom:\n",
    "\n",
    "Nordstrom carries a variety of white dresses from different brands and designers.\n",
    "Look for their \"Under $200\" or \"Under $300\" sections to find budget-friendly options.\n",
    "Nordstrom offers fast shipping, including expedited options for quicker delivery.\n",
    "\n",
    "Revolve:\n",
    "\n",
    "Revolve features trendy and contemporary white dresses suitable for graduation.\n",
    "Browse their selection for options within your budget range.\n",
    "They offer quick shipping, and you can filter by shipping time to find items that can be delivered promptly.\n",
    "\n",
    "Lulus:\n",
    "\n",
    "Lulus specializes in affordable and stylish dresses, including many white options.\n",
    "You can find elegant graduation dresses within your budget.\n",
    "They offer expedited shipping options for faster delivery.\n",
    "\n",
    "Boohoo:\n",
    "\n",
    "Boohoo has a wide range of white dresses at budget-friendly prices.\n",
    "Check their sale section for additional discounts.\n",
    "Boohoo often provides fast shipping options, including express delivery.\n",
    "\n",
    "Amazon:\n",
    "\n",
    "Amazon offers a vast selection of white dresses from various sellers.\n",
    "Look for dresses with Prime shipping for faster delivery.\n",
    "Read customer reviews to ensure quality and fit.\n",
    "\n",
    "H&M:\n",
    "\n",
    "H&M features affordable white dresses suitable for graduation.\n",
    "Explore their online store for stylish options.\n",
    "They offer fast shipping services.\n",
    "\n",
    "Zara:\n",
    "\n",
    "Zara offers chic and fashionable white dresses.\n",
    "Check their online store for dresses within your budget.\n",
    "Zara provides expedited shipping options for quick delivery.\n",
    "\n",
    "Macy's:\n",
    "\n",
    "Macy's carries a range of white dresses from different brands.\n",
    "Look for dresses on sale or clearance to maximize your budget.\n",
    "They offer fast shipping services.\n",
    "\n",
    "Missguided:\n",
    "\n",
    "Missguided has trendy white dresses at affordable prices.\n",
    "Explore their selection for graduation-appropriate styles.\n",
    "They provide quick shipping options.\n",
    "\n",
    "When shopping online, remember to check the shipping policies, delivery times, and return/exchange options to ensure a smooth purchasing experience. Additionally, look for customer reviews and size guides to make informed decisions about the dresses you choose. Happy shopping and best wishes for your graduation!"
   ]
  },
  {
   "cell_type": "markdown",
   "id": "f2e15a3b-99d8-4a8a-bcdf-515e57cb2b5b",
   "metadata": {},
   "source": [
    "\n",
    "     I want something more unique, classy, and quality. I want to be able to wear these dresses again. I am open to vintage and designer options as well. My favorite option out of the ones supplied is Reformation."
   ]
  },
  {
   "cell_type": "markdown",
   "id": "b3516b6e-8985-4082-bebf-b0b03adc4c68",
   "metadata": {},
   "source": [
    "It's wonderful that you're looking for unique, classy, and quality white dresses that you can wear beyond graduation, including considering vintage and designer options. Revolve is a great choice as they offer a curated selection of stylish and higher-end dresses. Here are some tailored recommendations to explore on Revolve and a few additional suggestions to help you find the perfect dresses:\n",
    "\n",
    "Revolve:\n",
    "\n",
    "Revolve carries a variety of designer and boutique brands known for unique and quality pieces.\n",
    "Explore their selection of white dresses, including options suitable for graduation and beyond.\n",
    "Look for dresses from brands like Lovers + Friends, Tularosa, Majorelle, and House of Harlow 1960 for elegant and timeless styles.\n",
    "\n",
    "Net-a-Porter:\n",
    "\n",
    "Net-a-Porter is a luxury online retailer offering a range of designer dresses.\n",
    "Browse their white dress collection for high-quality options that can be worn for special occasions.\n",
    "Consider brands like Zimmermann, Self-Portrait, and Reformation for sophisticated and stylish dresses.\n",
    "\n",
    "Shopbop:\n",
    "\n",
    "Shopbop features a curated selection of designer and contemporary white dresses.\n",
    "Explore their assortment of dresses suitable for graduation and future events.\n",
    "Look for brands like Veronica Beard, Ulla Johnson, and ASTR the Label for chic and versatile dresses.\n",
    "\n",
    "The RealReal:\n",
    "\n",
    "The RealReal specializes in pre-owned luxury fashion, including vintage designer dresses.\n",
    "Discover unique and timeless white dresses from top designers like Chanel, Gucci, and Dior.\n",
    "Explore their collection for sustainable and one-of-a-kind options.\n",
    "\n",
    "Farfetch:\n",
    "\n",
    "Farfetch is an online platform that connects you to boutiques worldwide, offering a diverse range of designer dresses.\n",
    "Search for white dresses from emerging and established designers for a distinctive look.\n",
    "Consider brands like Ganni, Rixo, and Rotate Birger Christensen for modern and sophisticated styles.\n",
    "\n",
    "Etsy:\n",
    "\n",
    "Etsy is a great platform for finding unique vintage and handmade white dresses.\n",
    "Explore vintage shops on Etsy for one-of-a-kind pieces that can be styled for various occasions.\n",
    "Look for vintage dresses from the 1960s, 1970s, or 1980s for a timeless and classy vibe.\n",
    "\n",
    "Reformation:\n",
    "\n",
    "Reformation offers sustainable and chic white dresses that are perfect for graduation and beyond.\n",
    "Explore their selection of eco-friendly dresses made from quality materials.\n",
    "Look for classic silhouettes and flattering designs that can be dressed up or down.\n",
    "When browsing these websites, use filters to narrow down your search based on price, style, size, and brand preferences. Consider investing in versatile dresses that can be styled differently for various occasions to maximize wearability. Also, check customer reviews and return policies to ensure satisfaction with your purchase. Happy shopping and enjoy finding your perfect graduation dresses!"
   ]
  },
  {
   "cell_type": "markdown",
   "id": "1454d787-0997-418b-a7a9-aff5d6d982f4",
   "metadata": {},
   "source": [
    "--------------------------------"
   ]
  },
  {
   "cell_type": "markdown",
   "id": "108a1f94-04b8-4789-88de-90c5ea70e23c",
   "metadata": {},
   "source": [
    "Overall, it was interesting to see the options LLM's provides and how they align with my shopping preferences. I shop at a lot of the Brands that were recommended. For practicality reasons, this was not helpful because I was looking for new options and websites. I was hopeful with Gemini, since it began to generate responses that included specific listings and links. This was short lived, because it began to respond with options that were not my size, the wrong color, sold out, and other guideline I provided. I think LLM's lack knowledge surrounding shopping and probably just resort to the websites that are most popular according to the users prompt. There was not anything unique about the responses - styles, brands, etc. Furthermore, I believe LLM's could be leveraged to empower up & coming emerging designers and low-key brands. I am still in need of a second graduation dress, but this experience had opened my eyes to new possibilities with LLMs. Hopefully this helps someone else looking for Graduation dresses!"
   ]
  },
  {
   "cell_type": "code",
   "execution_count": null,
   "id": "91420046-acbb-42e0-ba34-99b97f9ee311",
   "metadata": {},
   "outputs": [],
   "source": []
  }
 ],
 "metadata": {
  "citation-manager": {
   "items": {}
  },
  "kernelspec": {
   "display_name": "Python 3.11 (COMM4190)",
   "language": "python",
   "name": "comm4190"
  },
  "language_info": {
   "codemirror_mode": {
    "name": "ipython",
    "version": 3
   },
   "file_extension": ".py",
   "mimetype": "text/x-python",
   "name": "python",
   "nbconvert_exporter": "python",
   "pygments_lexer": "ipython3",
   "version": "3.11.7"
  }
 },
 "nbformat": 4,
 "nbformat_minor": 5
}
