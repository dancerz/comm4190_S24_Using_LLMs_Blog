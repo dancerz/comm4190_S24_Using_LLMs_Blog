{
 "cells": [
  {
   "cell_type": "raw",
   "id": "35a40e34-d6c0-43de-9018-1719cdcc76a6",
   "metadata": {},
   "source": [
    "---\n",
    "title: \"Problem Solving with AI\"\n",
    "description: \"A post from a Jupyter notebook\"\n",
    "author: \"Zaria Dancer\"\n",
    "date: \"2/17/2024\"\n",
    "categories:\n",
    "  - LLMs\n",
    "  - prompting\n",
    "  - logic\n",
    "---"
   ]
  },
  {
   "cell_type": "markdown",
   "id": "9db2efaa-6e76-41fa-9e25-315dedeb5612",
   "metadata": {},
   "source": [
    "## A Math Problem for LLMs\n",
    "\n",
    "* Read the following and see if you can answer the question:\n",
    "  \n",
    "  > A train leaves Chicago traveling west at 60 miles per hour. An hour later, at  12 noon, another train leaves Chicago traveling east at 80 miles per hour. When are the two trains the same distance from Chicago?"
   ]
  },
  {
   "cell_type": "markdown",
   "id": "9f486928-932f-4c16-9e30-325f8ca970af",
   "metadata": {},
   "source": [
    "-------------------------------"
   ]
  },
  {
   "cell_type": "markdown",
   "id": "bb1cb0a1-3b0c-4f5b-be49-d3f66d1ae239",
   "metadata": {},
   "source": [
    "**Explanation:**\n",
    "\n",
    "Since we are just talking about distance from Chicago it doesn't matter what direction they are going.\n",
    "The speed of each train and the head start the first train had is what matters. \n",
    "\n",
    "The first train's distance can be represented with the equation:\n",
    "\n",
    "**60 + 60x** \n",
    "\n",
    "- it has an hour head start where it traveled 60 miles in that time\n",
    "\n",
    "The second train's distance can be represented with the equation:\n",
    "\n",
    "**80x** \n",
    "- each hour it travels 80 miles.\n",
    "  \n",
    "*In both equations x represents the number of hours.*\n",
    "\n",
    "\n",
    "If we set these two equations equal to each other we get:\n",
    "60 + 60 x = 80 x\n",
    "\n",
    "Combine like terms:\n",
    "60 = 20 x\n",
    "\n",
    "Divide both sides by 20:\n",
    "x = 3\n",
    "\n",
    "So at 3:00 p.m. The two trains will both be the same distance from Chicago (240 miles)."
   ]
  },
  {
   "cell_type": "markdown",
   "id": "2aedab00-6d3f-420b-99f1-6715ddad88d4",
   "metadata": {},
   "source": [
    "# How do LLMs response to the prompt?"
   ]
  },
  {
   "attachments": {},
   "cell_type": "markdown",
   "id": "8ed1947b-84c3-4cb7-a6b8-1d596e1f66ce",
   "metadata": {},
   "source": [
    "**GPT3.5 Turbo** vs **Bard**\n",
    "\n",
    "<img src=\"gptbard1.png\" width=\"100%\"/>"
   ]
  },
  {
   "cell_type": "markdown",
   "id": "632d0781-6d85-41a5-94e4-1c5a97ed9fde",
   "metadata": {},
   "source": [
    "**The Rest of Bard's Response:** Therefore, it will take 3 hours after the second train left Chicago for both trains to be the same distance from the city. In conclusion, the two trains will be the same distance from Chicago at 3:00 PM. Remember that the first train had a 1-hour head start, so it will have traveled further at that time (240 miles) compared to the second train (240 miles)."
   ]
  },
  {
   "cell_type": "markdown",
   "id": "2bcd974c-014c-4956-8612-49338df96da3",
   "metadata": {},
   "source": [
    "**Llama2 (chat 7b version) vs GPT4 Preview**\n",
    "<img src=\"llama2gpt.png\" width=\"100%\"/>"
   ]
  },
  {
   "cell_type": "markdown",
   "id": "2085ea69-d8a5-4fc3-9d50-71e10180709d",
   "metadata": {},
   "source": [
    "\n",
    "<img src=\"gpt4ll.png\" width=\"100%\"/>"
   ]
  },
  {
   "cell_type": "markdown",
   "id": "65e07ead-21c6-439a-b7f1-9e7803c65aff",
   "metadata": {},
   "source": [
    "Here we can see that Llama is the only LLM with the wrong answer and approach."
   ]
  },
  {
   "cell_type": "code",
   "execution_count": null,
   "id": "cb7b01de-fcf3-4624-b9f0-eb26e05a7454",
   "metadata": {},
   "outputs": [],
   "source": []
  }
 ],
 "metadata": {
  "citation-manager": {
   "items": {}
  },
  "kernelspec": {
   "display_name": "Python 3.11 (COMM4190)",
   "language": "python",
   "name": "comm4190"
  },
  "language_info": {
   "codemirror_mode": {
    "name": "ipython",
    "version": 3
   },
   "file_extension": ".py",
   "mimetype": "text/x-python",
   "name": "python",
   "nbconvert_exporter": "python",
   "pygments_lexer": "ipython3",
   "version": "3.11.7"
  }
 },
 "nbformat": 4,
 "nbformat_minor": 5
}
