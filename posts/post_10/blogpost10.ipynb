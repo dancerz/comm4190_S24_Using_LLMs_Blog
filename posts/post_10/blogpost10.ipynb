{
 "cells": [
  {
   "cell_type": "code",
   "execution_count": null,
   "id": "a0b4a818-acd5-4323-8a79-8054d3c764d5",
   "metadata": {},
   "outputs": [],
   "source": [
    "---\n",
    "title: \"Probability Problems with LLMS\"\n",
    "description: \"A post from a Jupyter notebook\"\n",
    "author: \"Zaria Dancer\"\n",
    "date: \"4/3/2024\"\n",
    "categories:\n",
    "  - LLMs\n",
    "  - prompting\n",
    "  - probabiliity\n",
    "---"
   ]
  },
  {
   "cell_type": "markdown",
   "id": "5dd2b0ed-de03-4b3a-abc9-542fe3b1ddc2",
   "metadata": {},
   "source": [
    "# Probability Problems with LLMs"
   ]
  },
  {
   "cell_type": "markdown",
   "id": "ca2db077-00bb-4be2-849b-7754795cc9af",
   "metadata": {},
   "source": [
    "Recently, I was asked a probability question during an interview. Usually, the only technical questions I have will interviewing are consulting case questions or take home case studies. It was an interesting surprised that inspired me to test out certain LLM's probability and problem solving skills. "
   ]
  },
  {
   "cell_type": "markdown",
   "id": "9e940c67-1956-4d07-a6d8-51b414a9058a",
   "metadata": {},
   "source": [
    "**The question I was asked**: "
   ]
  },
  {
   "cell_type": "markdown",
   "id": "ca8ad945-790a-4a2a-bd49-ffb45f273361",
   "metadata": {},
   "source": [
    "Three ants are sitting at the three corners of an equilateral triangle. Each ant starts randomly picks a direction and starts to move along the edge of the triangle. What is the probability that none of the ants collide?"
   ]
  },
  {
   "cell_type": "markdown",
   "id": "72b7edcd-e3ee-4e4b-9f99-e1f618c92723",
   "metadata": {},
   "source": [
    "# Claude"
   ]
  },
  {
   "cell_type": "markdown",
   "id": "e8379167-b05a-431f-8b31-5841e12f0a46",
   "metadata": {},
   "source": [
    "<img src=\"claudeprob.png\" width=\"70%\"/>"
   ]
  },
  {
   "cell_type": "markdown",
   "id": "8cf47583-db8c-46c2-9a4c-be20850c801a",
   "metadata": {},
   "source": [
    "When I completed this problem, I finished at a different answer. I will not spoil the answer now, but attempt the problem yourself! I agree with Claude up to step 4. This step could have been explained more clearly: \n",
    "\n",
    "$P(\\text{no collision}) = \\frac{\\text{number of favorable outcomes}} {\\text{total number of possible outcomes}} = \\frac{8}{8} = 1$"
   ]
  },
  {
   "cell_type": "markdown",
   "id": "16cbbf26-2ac3-4e67-aa0c-201f5d5d1c5c",
   "metadata": {},
   "source": [
    "# Gemini"
   ]
  },
  {
   "cell_type": "markdown",
   "id": "1cd8a56e-d7e5-4cb4-8c28-2d6322044f24",
   "metadata": {},
   "source": [
    "<img src=\"geminiprob.png\" width=\"70%\"/>"
   ]
  },
  {
   "cell_type": "markdown",
   "id": "d22053c0-0838-4dcc-9411-bbfe38e49297",
   "metadata": {},
   "source": [
    "I believe that Gemini approached the problem well. I followed similar steps, but Gemini's is very clear."
   ]
  },
  {
   "cell_type": "markdown",
   "id": "76ff3148-835c-4644-a194-480f2b32235f",
   "metadata": {},
   "source": [
    "# ChatGPT"
   ]
  },
  {
   "cell_type": "markdown",
   "id": "f5940ba0-f3ff-46d5-878e-1c2600c09f3e",
   "metadata": {},
   "source": [
    "<img src=\"gptprob.png\" width=\"70%\"/>"
   ]
  },
  {
   "cell_type": "markdown",
   "id": "cd0518b6-fe4a-4626-9016-456557db85e1",
   "metadata": {},
   "source": [
    "ChatGPT's favorable outcomes was not my favorite. Although I agree with most of the math, I think the approach could have been clearer. "
   ]
  },
  {
   "cell_type": "markdown",
   "id": "c91be712-2df8-4cff-8c5b-722f67a5bd2b",
   "metadata": {},
   "source": [
    "# LLama"
   ]
  },
  {
   "cell_type": "markdown",
   "id": "5fa2001b-275b-449d-aad8-39b36d70d4f7",
   "metadata": {},
   "source": [
    "<img src=\"llamaprob.png\" width=\"70%\"/>"
   ]
  },
  {
   "cell_type": "markdown",
   "id": "1ff9bfab-52ac-43bc-9eb0-77a74e6f54b0",
   "metadata": {},
   "source": [
    "I completed this problem with a different answer. I don't agree with the number of combinations LLama provided; I think the ant collide in #3 and #4. \n",
    "\n",
    "## Which approach is most like yours? What approach was your favorite? "
   ]
  },
  {
   "cell_type": "markdown",
   "id": "aa2054f3-68ba-42d0-b8a0-d816b4e65bec",
   "metadata": {},
   "source": [
    "Attempt the problem yourself NOW! Do you agree or disagree? **See the answer below!**"
   ]
  },
  {
   "cell_type": "markdown",
   "id": "fe21719c-ae33-4c11-850e-36b9c44db1e0",
   "metadata": {},
   "source": [
    "# The Answer & Possible Steps: "
   ]
  },
  {
   "cell_type": "markdown",
   "id": "975df564-e1f1-40c7-87e5-bc7a0125b318",
   "metadata": {},
   "source": [
    "Possible Combinations: LLL, LLR, LRL, LRR, RLL, RLR, RRL, RRR\n",
    "\n",
    "So basically these are the 8 cases possible.\n",
    "\n",
    "Out of which if all the ants choose to go via LLL or RRR only then they won't collide ...\n",
    "\n",
    "The probability is 2/8 = **1/4** = **25 %**"
   ]
  },
  {
   "cell_type": "markdown",
   "id": "cd65c341-e82b-435f-97fe-2095ce33276b",
   "metadata": {},
   "source": [
    "### My Favorite: Gemini"
   ]
  },
  {
   "cell_type": "markdown",
   "id": "79061d24-93eb-4878-93a7-3b19cadd519a",
   "metadata": {},
   "source": [
    "I think Gemini's approach was the clearest. The steps began with stating that the ants will only avoid collision if they all move in the same direction (clockwise or counter-clockwise). It specifies the number of choices each ant has, the directions, and the favorable outcomes. \n",
    "\n",
    "Number of Choices: Each ant has two choices: move clockwise or counter-\n",
    "clockwise. \n",
    "\n",
    "Favorable Outcomes: There are only two scenarios (clockwise or counter-\n",
    "clockwise) where none of the ants collide.\n",
    "\n",
    "Moreover, it clearly explains that there are 2 choices per ant multiplied by itself 3 times - because there are 3 ants.\n",
    "\n",
    "Therefore, the probability of none of the ants colliding is the number of favorable\n",
    "outcomes divided by the total number of outcomes:\n",
    "Probability = Favorable Outcomes / Total Outcomes\n",
    "\n",
    "Probability = 2 (clockwise or counter-clockwise) / 8 (total outcomes)\n",
    "\n",
    "Arriving at the answer - 2/8 - 1/4 - 25%\n"
   ]
  },
  {
   "cell_type": "code",
   "execution_count": null,
   "id": "7d2770ab-52e3-4dda-ada3-b97ee2d04959",
   "metadata": {},
   "outputs": [],
   "source": []
  }
 ],
 "metadata": {
  "citation-manager": {
   "items": {}
  },
  "kernelspec": {
   "display_name": "Python 3.11 (COMM4190)",
   "language": "python",
   "name": "comm4190"
  },
  "language_info": {
   "codemirror_mode": {
    "name": "ipython",
    "version": 3
   },
   "file_extension": ".py",
   "mimetype": "text/x-python",
   "name": "python",
   "nbconvert_exporter": "python",
   "pygments_lexer": "ipython3",
   "version": "3.11.7"
  }
 },
 "nbformat": 4,
 "nbformat_minor": 5
}
