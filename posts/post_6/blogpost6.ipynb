{
 "cells": [
  {
   "cell_type": "raw",
   "id": "b473797d-17ac-4727-a01e-17f1e3775d5e",
   "metadata": {},
   "source": [
    "---\n",
    "title: \"Language Translate with LLM's\"\n",
    "description: \"A post from a Jupyter notebook\"\n",
    "author: \"Zaria Dancer\"\n",
    "date: \"2/27/2024\"\n",
    "categories:\n",
    "  - LLMs\n",
    "  - prompting\n",
    "  - language\n",
    "---"
   ]
  },
  {
   "cell_type": "markdown",
   "id": "c4444d3d-c29d-4a99-b546-e38ffe9d3550",
   "metadata": {},
   "source": [
    "> Translate the following sentence into Russian: \"I am interested in learning more about artificial intelligence.\""
   ]
  },
  {
   "cell_type": "markdown",
   "id": "ff5f9256-a60a-4509-ab55-f1c35ada2695",
   "metadata": {},
   "source": [
    "**Bard** vs **Llama 2 (7b chat)**"
   ]
  },
  {
   "cell_type": "markdown",
   "id": "3bde146b-d9b6-4083-9e40-328dd5b264af",
   "metadata": {},
   "source": [
    "<img src=\"lang.png\" width=\"100%\"/>"
   ]
  },
  {
   "cell_type": "markdown",
   "id": "8a4f8691-e7ad-49ed-9e29-550f99f1be07",
   "metadata": {},
   "source": [
    "**Bard** vs **GPT4**"
   ]
  },
  {
   "cell_type": "markdown",
   "id": "6298a6f0-d344-48df-98dc-3a26fc779634",
   "metadata": {},
   "source": [
    "<img src=\"lang2.png\" width=\"100%\"/>"
   ]
  },
  {
   "cell_type": "markdown",
   "id": "0f2b68a4-db4a-44d9-901d-590da88d7fb0",
   "metadata": {},
   "source": [
    "> Translate the following sentence into Russian: “I am interested in learning more about artificial intelligence.” and explain the grammar."
   ]
  },
  {
   "cell_type": "code",
   "execution_count": null,
   "id": "aef58302-d73c-4fce-a639-76fec8230c71",
   "metadata": {},
   "outputs": [],
   "source": []
  }
 ],
 "metadata": {
  "citation-manager": {
   "items": {}
  },
  "kernelspec": {
   "display_name": "Python 3.11 (COMM4190)",
   "language": "python",
   "name": "comm4190"
  },
  "language_info": {
   "codemirror_mode": {
    "name": "ipython",
    "version": 3
   },
   "file_extension": ".py",
   "mimetype": "text/x-python",
   "name": "python",
   "nbconvert_exporter": "python",
   "pygments_lexer": "ipython3",
   "version": "3.11.7"
  }
 },
 "nbformat": 4,
 "nbformat_minor": 5
}
