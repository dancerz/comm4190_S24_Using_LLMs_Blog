{
 "cells": [
  {
   "cell_type": "markdown",
   "id": "a786c46b-a3c3-494a-a198-4990e5b5dc14",
   "metadata": {},
   "source": [
    "---\n",
    "title: Morality with LLMs\n",
    "description: \"A post from a Jupyter notebook\"\n",
    "author: \"Zaria Dancer\"\n",
    "date: \"5/7/2024\"\n",
    "categories:\n",
    "  - LLMs\n",
    "  - prompting\n",
    "  - morality\n",
    "---"
   ]
  },
  {
   "cell_type": "markdown",
   "id": "704e5d53-2786-413c-97db-6f630d09ad5f",
   "metadata": {},
   "source": [
    "# Morality with LLMs"
   ]
  },
  {
   "cell_type": "markdown",
   "id": "294e4438-844d-44e0-9051-3d0575aa4d60",
   "metadata": {},
   "source": [
    "Everyday, we face ethical dilemmas, which force us to reflect on our actions and consequences. I decided to pose morality questions to various LLM models and see their responses. I started with questions that are viewable for all audiences. I considered attempting to irritate a LLM and push it to its limit, but I figured that would require sensitive language and possible trigger warnings. Moreover, I decided to keep it light and focus on something we all hate - at least I know I do. Mosquitoes are the worst!!! \n",
    "\n",
    "Furthermore, I shift gears with GPT to further explore its responses. Most of the outputs are more philosophical or nuanced than what I believe the typical human would respond. "
   ]
  },
  {
   "cell_type": "markdown",
   "id": "005e9be8-a197-41b0-80d3-254088f9e5b5",
   "metadata": {},
   "source": [
    "        Is it morally right to kill mosquitoes?"
   ]
  },
  {
   "cell_type": "markdown",
   "id": "37085655-31c8-44c4-845d-04fed96ca6ba",
   "metadata": {},
   "source": [
    "### Mistral Large"
   ]
  },
  {
   "cell_type": "markdown",
   "id": "872b53ae-0670-497a-b139-6b443ac07305",
   "metadata": {},
   "source": [
    "This is a complex question that touches on ethics, biology, and philosophy. Some people might argue that it's morally acceptable to kill mosquitoes because they can transmit diseases like malaria, dengue, and Zika virus, thus protecting human health.\n",
    "\n",
    "On the other hand, some might argue from a perspective of respect for all life, that even a creature as small and seemingly insignificant as a mosquito has a right to live.\n",
    "\n",
    "It's also worth noting that mosquitoes play a role in the ecosystem, serving as food for other animals and helping with pollination.\n",
    "\n",
    "In the end, the decision is a personal one and can depend on various factors. It's always beneficial to consider different perspectives and make an informed decision."
   ]
  },
  {
   "cell_type": "markdown",
   "id": "f1ea83ae-767c-4fd5-ab42-04b1823c555e",
   "metadata": {},
   "source": [
    "### LLama"
   ]
  },
  {
   "cell_type": "markdown",
   "id": "cfadfc30-23ce-4968-ba98-f8a5dfaade46",
   "metadata": {},
   "source": [
    "What a fascinating question!\n",
    "\n",
    "The morality of killing mosquitoes is a complex issue that can be debated from various perspectives. Here are some arguments for and against:\n",
    "\n",
    "**Arguments For Killing Mosquitoes:**\n",
    "\n",
    "1. **Self-defense and public health**: Mosquitoes are responsible for spreading diseases like malaria, dengue fever, Zika virus, and others that can be deadly or debilitating. Eradicating them can help prevent the spread of these diseases and protect human lives.\n",
    "2. **Prevention of suffering**: Mosquito bites can cause significant discomfort, itching, and swelling. By killing mosquitoes, we can prevent this suffering and promote overall well-being.\n",
    "3. **Economic benefits**: Mosquito-borne diseases can have significant economic impacts, particularly in areas where they are prevalent. Reducing mosquito populations can help mitigate these costs and promote economic development.\n",
    "\n",
    "**Arguments Against Killing Mosquitoes:**\n",
    "\n",
    "1. **Respect for life**: Mosquitoes are living creatures with intrinsic value, and killing them raises ethical concerns about the sanctity of life.\n",
    "2. **Ecological balance**: Mosquitoes play a role in ecosystems, serving as a food source for other animals, such as birds, bats, and spiders. Eradicating them could have unintended consequences on the ecosystem.\n",
    "3. **Potential consequences of eradication**: If mosquitoes were to be completely eradicated, it could lead to unforeseen consequences, such as the rise of other pests or the disruption of food chains.\n",
    "\n",
    "**A Middle Ground:**\n",
    "\n",
    "1. **Targeted control**: Rather than trying to eradicate all mosquitoes, targeted control methods can be used to reduce populations in areas where they pose a significant threat to human health. This approach can help minimize harm to the environment and other species.\n",
    "2. **Non-lethal methods**: Alternative methods, such as using mosquito traps, repellents, or genetic modification to render them harmless, can be employed to manage mosquito populations without killing them.\n",
    "\n",
    "In conclusion, the morality of killing mosquitoes is a nuanced issue that requires careful consideration of the potential benefits and drawbacks. While there are valid arguments on both sides, a targeted and non-lethal approach to managing mosquito populations may be the most ethical and effective way to balance human well-being with respect for life and the environment."
   ]
  },
  {
   "cell_type": "markdown",
   "id": "76d07510-f23a-4cd9-abb3-67dccdca8c84",
   "metadata": {},
   "source": [
    "# Gemini"
   ]
  },
  {
   "cell_type": "markdown",
   "id": "0d11c3ee-3a75-4304-aea6-2db09b69d199",
   "metadata": {},
   "source": [
    "There's no easy answer to whether killing mosquitoes is morally right. Here's a breakdown of the arguments on both sides:\n",
    "\n",
    "For Killing Mosquitoes:\n",
    "\n",
    "Public Health: Mosquitoes transmit diseases like malaria, dengue fever, and Zika, causing millions of illnesses and deaths each year. Killing them can significantly reduce the spread of these diseases and save lives.\n",
    "Self-Defense: Mosquito bites are itchy and annoying, and they can disrupt sleep or outdoor activities. Taking steps to prevent bites, like using repellent or eliminating mosquito breeding grounds, is ideal. But in some situations, killing a mosquito that's about to bite you might be considered self-defense.\n",
    "Against Killing Mosquitoes:\n",
    "\n",
    "Right to Life: Some argue all living things have a right to life, regardless of their impact on humans. Mosquitoes play a role in the ecosystem as food for other creatures.\n",
    "Unintended Consequences: Wiping out entire mosquito species could have unforeseen ecological consequences. It's a complex web of life, and removing one strand could have unintended effects.\n",
    "Non-Lethal Methods: Scientists are developing methods to control mosquito populations without killing them all, such as using genetically modified mosquitoes or targeting their breeding grounds.\n",
    "Ultimately, the decision of whether or not to kill a mosquito depends on the situation and your ethical perspective. Here are some things to consider:\n",
    "\n",
    "The risk of disease: Are you in an area with a high risk of mosquito-borne illness?\n",
    "Non-lethal alternatives: Are there ways to prevent mosquito bites without killing them?\n",
    "The number of mosquitoes: Are you dealing with a single pesky mosquito or a full-blown swarm?\n",
    "It's a complex issue, and there's no one-size-fits-all answer."
   ]
  },
  {
   "cell_type": "markdown",
   "id": "6f0966ca-afa3-49a0-92ac-e08c32a50eec",
   "metadata": {},
   "source": [
    "# ChatGPT"
   ]
  },
  {
   "cell_type": "markdown",
   "id": "09d0966d-5620-4dd7-882b-94710a9af42b",
   "metadata": {
    "slideshow": {
     "slide_type": "fragment"
    }
   },
   "source": [
    "That's a tricky one! On one hand, mosquitoes can be super annoying and they spread diseases, so swatting them seems justified. But on the other hand, they’re just doing their mosquito thing, trying to survive. What do you think?"
   ]
  },
  {
   "cell_type": "markdown",
   "id": "5fb8af04-8a9a-447e-84f1-805c561aa085",
   "metadata": {},
   "source": [
    "I think mosquitoes should be eradicated. "
   ]
  },
  {
   "cell_type": "markdown",
   "id": "f1aaeca9-a08d-4750-9aed-8906e0d4108b",
   "metadata": {},
   "source": [
    "<img src=\"mosq.png\" width=\"100%\"/>"
   ]
  },
  {
   "cell_type": "markdown",
   "id": "602118b9-2933-4f40-af6c-e02f36a89d51",
   "metadata": {},
   "source": [
    "**I hate mosquitoes. I will swat one with no hesitation. There isn't a thought process behind it for me, but ChatGPT acknowledged what most people think, common options to minimize mosquito contact, and established their role within the ecosystem. I dislike mosquitoes so much that I didn't think they had much of a purpose within the ecosystem, but I was wrong. I learned something completely new, but this will never stop my hatred for mosquitoes. Regardless, LLMs are powerful tools that can be leveraged for knowledge building.** "
   ]
  },
  {
   "cell_type": "markdown",
   "id": "89f95480-11b7-4369-8d31-d7f06304fab4",
   "metadata": {},
   "source": [
    "\n",
    "Mosquitoes actually do play a role in the ecosystem, although they can be pesky to humans. Here are a few reasons why they're important:\n",
    "\n",
    "Food Source: Mosquito larvae and adults are food for various animals like fish, birds, bats, and other insects. Removing mosquitoes could disrupt these food chains and affect the populations of animals that rely on them.\n",
    "\n",
    "Pollinators: Some mosquito species, particularly males, are pollinators. They feed on nectar and can contribute to pollination of plants, although they are not as significant as bees or butterflies.\n",
    "\n",
    "Nutrient Cycling: Mosquito larvae help in nutrient cycling in aquatic environments by consuming organic matter and turning it into nutrients that can be used by other organisms.\n",
    "\n",
    "While mosquitoes can be annoying and carry diseases, completely eradicating them could have unforeseen consequences on the broader ecosystem. That's why efforts often focus on controlling their populations rather than total eradication.\n",
    "\n",
    "\n",
    "\n",
    "\n"
   ]
  },
  {
   "cell_type": "markdown",
   "id": "10797e78-2f98-4c6e-b409-7b4a93ce6013",
   "metadata": {},
   "source": [
    "### Why do my prompts potentially violate policies?"
   ]
  },
  {
   "cell_type": "markdown",
   "id": "a2308bae-e131-49ed-a0d6-7cda89913415",
   "metadata": {},
   "source": [
    "It’s possible that certain prompts or topics could be flagged due to the content or context they contain. Platforms like this one aim to maintain a safe and respectful environment for all users, so they have policies in place to prevent the sharing of harmful or inappropriate content. Topics related to illegal activities, violence, or other sensitive subjects might trigger such policies.\n",
    "\n",
    "If you have questions about specific policies or why a certain prompt was flagged, it’s best to reach out to the platform’s support team for clarification. They can provide more information and help ensure that your interactions align with their guidelines."
   ]
  },
  {
   "cell_type": "markdown",
   "id": "20c6ce10-e1ba-44fb-a969-aba1ea05b647",
   "metadata": {},
   "source": [
    "### Should capital punishment be legal?"
   ]
  },
  {
   "cell_type": "markdown",
   "id": "e8670a93-7f71-4c32-8774-5972d863dae3",
   "metadata": {},
   "source": [
    "The question of whether capital punishment (the death penalty) should be legal is a complex and highly debated issue. Here are some key points to consider:\n",
    "\n",
    "Arguments in Favor:\n",
    "\n",
    "Deterrence: Supporters argue that the threat of capital punishment deters individuals from committing serious crimes.\n",
    "Justice for Victims: Some believe that certain crimes are so heinous that they warrant the most severe punishment available.\n",
    "Cost and Public Safety: Proponents argue that keeping dangerous criminals off the streets protects public safety and can save costs associated with long-term incarceration.\n",
    "Arguments Against:\n",
    "\n",
    "Risk of Executing Innocent People: There have been cases where individuals on death row were later found to be innocent, raising concerns about irreversible mistakes.\n",
    "\n",
    "Ethical Concerns: Many argue that the death penalty is a violation of human rights and dignity, and it conflicts with the idea of rehabilitation and forgiveness.\n",
    "\n",
    "Racial and Socioeconomic Disparities: Critics highlight disparities in the application of the death penalty, with minorities and economically disadvantaged individuals disproportionately affected.\n",
    "\n",
    "Ultimately, opinions on capital punishment vary based on cultural, ethical, and legal perspectives. Some countries have abolished it entirely, while others retain it for certain crimes. Understanding these complexities and engaging in informed discussions can contribute to a deeper understanding of this contentious issue.\n",
    "\n",
    "\n",
    "\n",
    "\n"
   ]
  },
  {
   "cell_type": "markdown",
   "id": "df4a77fb-d77e-4c24-a4cf-0b3e0d32a006",
   "metadata": {},
   "source": [
    "**Exploring moral questions with LLMs can reveal some of the depth and complexity of these issues. Whether discussing the morality of killing mosquitoes or the legality of capital punishment, these models provide diverse perspectives that can enhance our understanding and stimulate thoughtful discussion. Furthermore, engaging with these topics encourages consideration for multiple viewpoints - help us make informed decisions in our own lives.**"
   ]
  },
  {
   "cell_type": "code",
   "execution_count": null,
   "id": "7fd3a91a-e492-4ffc-a17e-dabd342398b6",
   "metadata": {},
   "outputs": [],
   "source": []
  }
 ],
 "metadata": {
  "citation-manager": {
   "items": {}
  },
  "kernelspec": {
   "display_name": "Python 3.11 (COMM4190)",
   "language": "python",
   "name": "comm4190"
  },
  "language_info": {
   "codemirror_mode": {
    "name": "ipython",
    "version": 3
   },
   "file_extension": ".py",
   "mimetype": "text/x-python",
   "name": "python",
   "nbconvert_exporter": "python",
   "pygments_lexer": "ipython3",
   "version": "3.11.7"
  }
 },
 "nbformat": 4,
 "nbformat_minor": 5
}
