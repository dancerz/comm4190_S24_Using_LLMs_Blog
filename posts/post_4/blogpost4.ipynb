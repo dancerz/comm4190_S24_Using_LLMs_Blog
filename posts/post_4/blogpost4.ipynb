{
 "cells": [
  {
   "cell_type": "raw",
   "id": "fee576f7-2cab-4e71-aa27-365384f5ea07",
   "metadata": {},
   "source": [
    "---\n",
    "title: \"Visualization with Co-Pilot\"\n",
    "description: \"A post from a Jupyter notebook\"\n",
    "author: \"Zaria Dancer\"\n",
    "date: \"2/26/2024\"\n",
    "categories:\n",
    "  - LLMs\n",
    "  - prompting\n",
    "  - logic\n",
    "---"
   ]
  },
  {
   "cell_type": "markdown",
   "id": "0d297f27-6db6-4420-838a-c16a5f32df9e",
   "metadata": {},
   "source": [
    "Prompt for **Bing AI Co-Pilot Image Generator** by Microsoft Designer\n",
    "> There are three boxes in a stack. A pink one, a purple one and a green one. The pink one is in the middle of the stack with the purple below it. What is the color of the box on the bottom of the stack?"
   ]
  },
  {
   "cell_type": "markdown",
   "id": "ede25198-7603-4866-b25f-24ce646a7331",
   "metadata": {},
   "source": [
    "<img src=\"boxes1.png\" width=\"100%\"/>"
   ]
  },
  {
   "cell_type": "markdown",
   "id": "2818a933-ae3b-430d-ab27-774292560ee5",
   "metadata": {},
   "source": [
    "> If there are three boxes in a stack - a pink box, a purple box, and a green box - and the the pink is in the middle with the purple below it. Create the whole stack. "
   ]
  },
  {
   "cell_type": "markdown",
   "id": "10ce3579-c16c-4125-ad44-d1327f977d86",
   "metadata": {},
   "source": [
    "<img src=\"boxes2.png\" width=\"100%\"/>"
   ]
  },
  {
   "cell_type": "markdown",
   "id": "cc77f1dd-d330-4d82-bc67-2a5d064c47e5",
   "metadata": {},
   "source": [
    "> Please generate an image with three stacked boxes: pink, purple, and green. Ensure the pink box is positioned in the middle of the stack, with the purple box directly below it. What color is the bottom box of the stack?"
   ]
  },
  {
   "cell_type": "markdown",
   "id": "76cc209f-bc3b-4c1f-93b8-c3e0476709f1",
   "metadata": {},
   "source": [
    "<img src=\"boxes3.png\" width=\"100%\"/>"
   ]
  },
  {
   "cell_type": "markdown",
   "id": "04792f43-0e36-42c8-930e-516459f3a2fa",
   "metadata": {},
   "source": [
    "> You have three boxes stacked on top of each other: pink, purple, and green, in that order. If the pink box is neither at the top nor the bottom of the stack, and the purple box is directly below the pink one, what color is the box at the bottom of the stack?"
   ]
  },
  {
   "cell_type": "markdown",
   "id": "cbe2165f-ed1a-43d7-8afe-84f0a2bfc241",
   "metadata": {},
   "source": [
    "<img src=\"boxes4.png\" width=\"100%\"/>"
   ]
  },
  {
   "cell_type": "markdown",
   "id": "a9838664-dee6-44da-8d3f-d30ce5c1ff6e",
   "metadata": {},
   "source": [
    "After 4 variations of the same prompt, the boxes are still not in the correct order. "
   ]
  },
  {
   "cell_type": "markdown",
   "id": "3f040b3f-d91d-43cb-87bb-9254df7fe53a",
   "metadata": {},
   "source": [
    "> There are three boxes in a stack. A pink one, a purple one and a green one. The pink one is in the middle of the stack with the purple below it. What is the color of the box on the bottom of the stack?\n",
    "\n",
    "\n",
    "It must be:\n",
    "   |   Box  | Stack position |\n",
    "   | --- | --- |\n",
    "   | GREEN | top |\n",
    "   | PINK  | middle |\n",
    "   | PURPLE | bottom |"
   ]
  },
  {
   "cell_type": "code",
   "execution_count": null,
   "id": "2a4fb5d8-e02b-4ab8-a856-5a7a4488d1bd",
   "metadata": {},
   "outputs": [],
   "source": []
  }
 ],
 "metadata": {
  "citation-manager": {
   "items": {}
  },
  "kernelspec": {
   "display_name": "Python 3.11 (COMM4190)",
   "language": "python",
   "name": "comm4190"
  },
  "language_info": {
   "codemirror_mode": {
    "name": "ipython",
    "version": 3
   },
   "file_extension": ".py",
   "mimetype": "text/x-python",
   "name": "python",
   "nbconvert_exporter": "python",
   "pygments_lexer": "ipython3",
   "version": "3.11.7"
  }
 },
 "nbformat": 4,
 "nbformat_minor": 5
}
