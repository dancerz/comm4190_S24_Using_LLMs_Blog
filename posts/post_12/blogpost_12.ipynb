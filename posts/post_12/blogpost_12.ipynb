{
 "cells": [
  {
   "cell_type": "markdown",
   "id": "a60a52f2-4132-48b2-9967-c29cb15d2a10",
   "metadata": {},
   "source": [
    "---\n",
    "title: Slang and Informal Language in LLMs\n",
    "description: \"A post from a Jupyter notebook\"\n",
    "author: \"Zaria Dancer\"\n",
    "date: \"5/3/2024\"\n",
    "categories:\n",
    "  - LLMs\n",
    "  - prompting\n",
    "  - slang\n",
    "---"
   ]
  },
  {
   "cell_type": "code",
   "execution_count": null,
   "id": "5e7fb29c-2df1-4d74-8074-ac143ea08a24",
   "metadata": {},
   "outputs": [],
   "source": []
  },
  {
   "cell_type": "markdown",
   "id": "d997f26a-256e-48c4-af41-f0853fc6a286",
   "metadata": {},
   "source": [
    "    Lets have an informal conversation using modern day slang"
   ]
  },
  {
   "cell_type": "markdown",
   "id": "59e41ead-9f38-40e1-b561-77e0b71e47ef",
   "metadata": {},
   "source": [
    "<img src=\"ken1.png\" width=\"100%\"/>"
   ]
  },
  {
   "cell_type": "markdown",
   "id": "c4e2119a-e2e0-464f-8cc1-ca281fa34846",
   "metadata": {},
   "source": [
    "<img src=\"ken2.png\" width=\"100%\"/>"
   ]
  },
  {
   "cell_type": "markdown",
   "id": "e9589ecf-e1ba-4671-ac4d-d142a99d7d6f",
   "metadata": {},
   "source": [
    "<img src=\"ken4.png\" width=\"100%\"/>"
   ]
  },
  {
   "cell_type": "markdown",
   "id": "b943bd89-d834-4f8c-bec6-376fe5971bae",
   "metadata": {},
   "source": [
    "<img src=\"ken5.png\" width=\"100%\"/>"
   ]
  },
  {
   "cell_type": "markdown",
   "id": "e0d006f1-a4c6-49e8-b916-3bfebc6e15ff",
   "metadata": {},
   "source": [
    "<img src=\"ken6.png\" width=\"100%\"/>"
   ]
  },
  {
   "cell_type": "markdown",
   "id": "ae36de5b-e7b8-4204-8cac-9a6c9f165a14",
   "metadata": {},
   "source": [
    "Absolutely! Here's a playlist that blends the genres you mentioned, with some classic and current artists to keep it fresh:\n",
    "\n",
    " Genre-Bending Vibes\n",
    "\n",
    "\"Alright\" by Kendrick Lamar (Hip-Hop/Soul): A powerful protest anthem with soulful vocals and a driving beat.\n",
    "\n",
    "\"Get Lucky\" by Daft Punk feat. Pharrell Williams (House/Funk): This Grammy-winning dance track is pure upbeat fun.\n",
    "\n",
    "\"Crazy in Love\" by Beyoncé feat. Jay-Z (R&B/Hip-Hop): A timeless classic that merges soulful vocals with Jay-Z's signature rap style.\n",
    "\n",
    "\"Mr. Blue Sky\" by ELO (Rock/Alternative): A high-energy, feel-good song with a catchy melody and soaring vocals.\n",
    "\n",
    "\"Ultralight Beam\" by Kanye West feat. Chance the Rapper (Gospel/Hip-Hop): This track from Kanye's \"The Life of Pablo\" is a beautiful blend of gospel influences and modern hip-hop production.\n",
    "\n",
    "\"Nonchalant\" by Tank and the Bangas (R&B/Alternative): This New Orleans group brings a unique sound with soulful vocals and quirky instrumentation.\n",
    "\n",
    "\"Waves\" by Kanye West feat. Chris Brown (Hip-Hop/Soul): A melodic and introspective track with atmospheric synths and smooth vocals.\n",
    "\n",
    "\"Can't Feel My Face\" by The Weeknd (R&B/Pop): This chart-topping hit features The Weeknd's signature dark R&B sound with a catchy pop sensibility.\n",
    "\n",
    "\"Sing It Back\" by Moloko (House/Electronic): A funky and infectious house track perfect for getting your groove on.\n",
    "\n",
    "\"Somebody That I Used to Know\" by Gotye feat. Kimbra (Alternative/Pop): A quirky and catchy song with a blend of electronic and pop influences.\n",
    "\n",
    " This is just a starting point, feel free to adjust it based on your preferences! You can also check out some of these artists' other work for a deeper dive into their sound.\n",
    "\n",
    " Here are some additional resources for finding new music:\n",
    "\n",
    "Streaming services: Spotify, Apple Music, and Youtube Music all have great recommendation algorithms that can help you discover new music based on your taste.\n",
    "\n",
    "Music blogs and websites: Websites like Pitchfork, Complex, and Stereogum often review new albums and releases.\n",
    "\n",
    "Online radio stations: Genre-specific online radio stations can be a great way to discover new artists you might not have heard of before.\n",
    "\n",
    " Happy listening!"
   ]
  },
  {
   "cell_type": "code",
   "execution_count": null,
   "id": "7a15dbad-4593-47d7-b850-560d544518ef",
   "metadata": {},
   "outputs": [],
   "source": []
  }
 ],
 "metadata": {
  "citation-manager": {
   "items": {}
  },
  "kernelspec": {
   "display_name": "Python 3.11 (COMM4190)",
   "language": "python",
   "name": "comm4190"
  },
  "language_info": {
   "codemirror_mode": {
    "name": "ipython",
    "version": 3
   },
   "file_extension": ".py",
   "mimetype": "text/x-python",
   "name": "python",
   "nbconvert_exporter": "python",
   "pygments_lexer": "ipython3",
   "version": "3.11.7"
  }
 },
 "nbformat": 4,
 "nbformat_minor": 5
}
