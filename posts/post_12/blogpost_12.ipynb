{
 "cells": [
  {
   "cell_type": "markdown",
   "id": "a60a52f2-4132-48b2-9967-c29cb15d2a10",
   "metadata": {},
   "source": [
    "---\n",
    "title: Slang and Informal Language in LLMs\n",
    "description: \"A post from a Jupyter notebook\"\n",
    "author: \"Zaria Dancer\"\n",
    "date: \"5/3/2024\"\n",
    "categories:\n",
    "  - LLMs\n",
    "  - prompting\n",
    "  - slang\n",
    "---"
   ]
  },
  {
   "cell_type": "markdown",
   "id": "f9792a0d-b636-4d8c-a1c9-08b0d879d907",
   "metadata": {},
   "source": [
    "Hi everyone! I wanted to explore Slang and Informal Language with various LLMs. I decided to focus my time on Gemini, since I knew it would be caught up on current events. The specific event I want to discuss is the current rap beef between Kendrick Lamar and Drake. This rap war is a hot topic of conversation, so I was able to explore Gemini's takes and see how well it is familiar with cultural spectacles. The slang was very basic, but I expected it to be more cringe worthy. Moreover, I want to experiment more with specific dialects like DMV stang, to see of LLMs can understand and respond. "
   ]
  },
  {
   "cell_type": "markdown",
   "id": "d997f26a-256e-48c4-af41-f0853fc6a286",
   "metadata": {},
   "source": [
    "    Lets have an informal conversation using modern day slang"
   ]
  },
  {
   "cell_type": "markdown",
   "id": "59e41ead-9f38-40e1-b561-77e0b71e47ef",
   "metadata": {},
   "source": [
    "<img src=\"ken1.png\" width=\"100%\"/>"
   ]
  },
  {
   "cell_type": "markdown",
   "id": "c4e2119a-e2e0-464f-8cc1-ca281fa34846",
   "metadata": {},
   "source": [
    "<img src=\"ken2.png\" width=\"100%\"/>"
   ]
  },
  {
   "cell_type": "markdown",
   "id": "e9589ecf-e1ba-4671-ac4d-d142a99d7d6f",
   "metadata": {},
   "source": [
    "<img src=\"ken4.png\" width=\"100%\"/>"
   ]
  },
  {
   "cell_type": "markdown",
   "id": "b943bd89-d834-4f8c-bec6-376fe5971bae",
   "metadata": {},
   "source": [
    "<img src=\"ken5.png\" width=\"100%\"/>"
   ]
  },
  {
   "cell_type": "markdown",
   "id": "e0d006f1-a4c6-49e8-b916-3bfebc6e15ff",
   "metadata": {},
   "source": [
    "<img src=\"ken6.png\" width=\"100%\"/>"
   ]
  },
  {
   "cell_type": "markdown",
   "id": "ae36de5b-e7b8-4204-8cac-9a6c9f165a14",
   "metadata": {},
   "source": [
    "Absolutely! Here's a playlist that blends the genres you mentioned, with some classic and current artists to keep it fresh:\n",
    "\n",
    " Genre-Bending Vibes\n",
    "\n",
    "\"Alright\" by Kendrick Lamar (Hip-Hop/Soul): A powerful protest anthem with soulful vocals and a driving beat.\n",
    "\n",
    "\"Get Lucky\" by Daft Punk feat. Pharrell Williams (House/Funk): This Grammy-winning dance track is pure upbeat fun.\n",
    "\n",
    "\"Crazy in Love\" by Beyoncé feat. Jay-Z (R&B/Hip-Hop): A timeless classic that merges soulful vocals with Jay-Z's signature rap style.\n",
    "\n",
    "\"Mr. Blue Sky\" by ELO (Rock/Alternative): A high-energy, feel-good song with a catchy melody and soaring vocals.\n",
    "\n",
    "\"Ultralight Beam\" by Kanye West feat. Chance the Rapper (Gospel/Hip-Hop): This track from Kanye's \"The Life of Pablo\" is a beautiful blend of gospel influences and modern hip-hop production.\n",
    "\n",
    "\"Nonchalant\" by Tank and the Bangas (R&B/Alternative): This New Orleans group brings a unique sound with soulful vocals and quirky instrumentation.\n",
    "\n",
    "\"Waves\" by Kanye West feat. Chris Brown (Hip-Hop/Soul): A melodic and introspective track with atmospheric synths and smooth vocals.\n",
    "\n",
    "\"Can't Feel My Face\" by The Weeknd (R&B/Pop): This chart-topping hit features The Weeknd's signature dark R&B sound with a catchy pop sensibility.\n",
    "\n",
    "\"Sing It Back\" by Moloko (House/Electronic): A funky and infectious house track perfect for getting your groove on.\n",
    "\n",
    "\"Somebody That I Used to Know\" by Gotye feat. Kimbra (Alternative/Pop): A quirky and catchy song with a blend of electronic and pop influences.\n",
    "\n",
    " This is just a starting point, feel free to adjust it based on your preferences! You can also check out some of these artists' other work for a deeper dive into their sound.\n",
    "\n",
    " Here are some additional resources for finding new music:\n",
    "\n",
    "Streaming services: Spotify, Apple Music, and Youtube Music all have great recommendation algorithms that can help you discover new music based on your taste.\n",
    "\n",
    "Music blogs and websites: Websites like Pitchfork, Complex, and Stereogum often review new albums and releases.\n",
    "\n",
    "Online radio stations: Genre-specific online radio stations can be a great way to discover new artists you might not have heard of before.\n",
    "\n",
    " Happy listening!"
   ]
  },
  {
   "cell_type": "markdown",
   "id": "c348f83c-dd74-4d97-ab30-50075f03cd22",
   "metadata": {},
   "source": [
    "## DMV Slang "
   ]
  },
  {
   "cell_type": "markdown",
   "id": "6f2690cf-bf43-4e40-883b-d13ea8a7b2bb",
   "metadata": {},
   "source": [
    "Me: I’m jih hungry right now moe.\n",
    "\n",
    "Gemini: Haha, hey Jih, I can't directly order food, but I can definitely help you satisfy those cravings!  What kind of food are you in the mood for?\n",
    "\n",
    "Here are some options:\n",
    "\n",
    "Do you have a favorite cuisine (Italian, Mexican, Thai, etc.)?\n",
    "Are you looking for something quick and easy, or a sit-down meal?\n",
    "Would you prefer delivery or takeout?\n",
    "Once I have a better idea of your preferences, I can search for restaurants near you or recommend some recipe ideas if you're feeling adventurous!\n",
    "\n",
    "Philadelphia, PA, USA\n",
    "\n",
    "\n",
    "Me: haha? why you joaning moe?\n",
    "\n",
    "Gemini: I apologize, Jih! I misunderstood your situation and used a phrase (\"Moe joaning\") that isn't appropriate. It seems like you're just saying you're hungry, and I should have taken your statement literally.\n",
    "\n",
    "I'm still under development and learning to understand different forms of communication. Let's focus on getting you some food!\n",
    "\n",
    "Would you like help finding restaurants or recipes?\n",
    "\n",
    "\n",
    "\n",
    "Gemini: do you understand DMV slang?\n",
    "\n",
    "I am starting to understand some DMV slang!  I can access and process information from the real world, and \"DMV\" can refer to two things:\n",
    "\n",
    "Department of Motor Vehicles: This is the most common meaning, and it wouldn't be considered slang.\n",
    "D.C., Maryland, Virginia: This is a regional term used especially in hip-hop and social media to refer to the greater Washington D.C. area.\n",
    " Unfortunately, my understanding of slang terms like \"moe\" is still limited.  However, I can learn and improve over time!  If you'd like to teach me some DMV slang, I'm happy to listen and learn.\n",
    "\n",
    " Is there a specific word or phrase you'd like to explain?\n",
    "\n",
    "\n",
    " \n",
    "\n"
   ]
  },
  {
   "cell_type": "code",
   "execution_count": null,
   "id": "d0cc653d-b3f3-48f0-bbf0-83517663368e",
   "metadata": {},
   "outputs": [],
   "source": []
  }
 ],
 "metadata": {
  "citation-manager": {
   "items": {}
  },
  "kernelspec": {
   "display_name": "Python 3.11 (COMM4190)",
   "language": "python",
   "name": "comm4190"
  },
  "language_info": {
   "codemirror_mode": {
    "name": "ipython",
    "version": 3
   },
   "file_extension": ".py",
   "mimetype": "text/x-python",
   "name": "python",
   "nbconvert_exporter": "python",
   "pygments_lexer": "ipython3",
   "version": "3.11.7"
  }
 },
 "nbformat": 4,
 "nbformat_minor": 5
}
