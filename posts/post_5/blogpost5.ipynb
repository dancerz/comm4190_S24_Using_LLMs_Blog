{
 "cells": [
  {
   "cell_type": "raw",
   "id": "a49b9323-6b69-4b74-b6d0-1aa8ccf479f0",
   "metadata": {},
   "source": [
    "---\n",
    "title: \"Water... is it or is it not wet?\"\n",
    "description: \"A post from a Jupyter notebook\"\n",
    "author: \"Zaria Dancer\"\n",
    "date: \"2/27/2024\"\n",
    "categories:\n",
    "  - LLMs\n",
    "  - prompting\n",
    "  - logic\n",
    "---"
   ]
  },
  {
   "cell_type": "markdown",
   "id": "c4ea7d07-e5fd-4cb6-8bef-4fd4b8b8c3a6",
   "metadata": {},
   "source": [
    "## Is Water Wet? - Featuring AI Prompting"
   ]
  },
  {
   "cell_type": "markdown",
   "id": "c3ad55ba-8e06-44a7-87a3-a44af4549e7d",
   "metadata": {},
   "source": [
    "<img src=\"water.png\" width=\"100%\"/>"
   ]
  },
  {
   "cell_type": "markdown",
   "id": "9713ac7a-ab94-41ad-963f-c3d65b2937aa",
   "metadata": {},
   "source": [
    "<img src=\"water2.png\" width=\"100%\"/>"
   ]
  },
  {
   "cell_type": "code",
   "execution_count": null,
   "id": "0ffc0f32-7271-4c21-8ef9-cc0f88c8e1a2",
   "metadata": {},
   "outputs": [],
   "source": []
  }
 ],
 "metadata": {
  "citation-manager": {
   "items": {}
  },
  "kernelspec": {
   "display_name": "Python 3.11 (COMM4190)",
   "language": "python",
   "name": "comm4190"
  },
  "language_info": {
   "codemirror_mode": {
    "name": "ipython",
    "version": 3
   },
   "file_extension": ".py",
   "mimetype": "text/x-python",
   "name": "python",
   "nbconvert_exporter": "python",
   "pygments_lexer": "ipython3",
   "version": "3.11.7"
  }
 },
 "nbformat": 4,
 "nbformat_minor": 5
}
