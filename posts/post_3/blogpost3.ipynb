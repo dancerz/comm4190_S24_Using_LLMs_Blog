{
 "cells": [
  {
   "cell_type": "raw",
   "id": "ec5c2e6e-92e0-4e81-8dfe-e34755d44158",
   "metadata": {},
   "source": [
    "---\n",
    "title: \"Spatial Visualization and Logical Deduction with LLMs\"\n",
    "description: \"A post from a Jupyter notebook\"\n",
    "author: \"Zaria Dancer\"\n",
    "date: \"2/24/2024\"\n",
    "categories:\n",
    "  - LLMs\n",
    "  - prompting\n",
    "  - logic\n",
    "---"
   ]
  },
  {
   "cell_type": "markdown",
   "id": "c52d60f2-ca92-4b67-b5ab-c047155b6203",
   "metadata": {},
   "source": [
    "## Spatial Visualization and Logical Deduction Problems "
   ]
  },
  {
   "cell_type": "markdown",
   "id": "12da963b-8e7f-4e25-a729-aecdde51f3b3",
   "metadata": {},
   "source": [
    "> Picture a row of four trees. The oak tree is to the left of the pine tree, but to the right of the maple tree. The birch tree is directly adjacent to the pine tree. What type of tree is the furthest to the left?"
   ]
  },
  {
   "cell_type": "markdown",
   "id": "46f8fc49-d554-410e-9d48-2a8841fdc135",
   "metadata": {},
   "source": [
    "**Solution:** The order from left to right is Maple - Oak - Pine - Birch. Since the oak tree is to the left of the pine tree, the maple tree must be the furthest to the left."
   ]
  },
  {
   "cell_type": "markdown",
   "id": "23a5040f-de33-4acb-a176-e158076ab9a8",
   "metadata": {},
   "source": [
    "Here, we have **GPT3.5 Turbo** up against **GPT4 Preview**"
   ]
  },
  {
   "cell_type": "markdown",
   "id": "f532aaae-2ec8-410f-b512-30890717b331",
   "metadata": {},
   "source": [
    "<img src=\"gptvsgpt.png\" width=\"100%\"/>"
   ]
  },
  {
   "cell_type": "markdown",
   "id": "3ed7291b-8762-4436-a104-3b5e1891766d",
   "metadata": {},
   "source": [
    "<img src=\"llgpt3.png\" width=\"100%\"/>"
   ]
  },
  {
   "cell_type": "markdown",
   "id": "b86ab94c-6fde-43c9-a8be-14363cf86439",
   "metadata": {},
   "source": [
    "<img src=\"gpt4brd.png\" width=\"100%\"/>"
   ]
  },
  {
   "cell_type": "markdown",
   "id": "8c7a314a-608b-4349-aeef-4e03ec90c31e",
   "metadata": {},
   "source": [
    "## Visualizing the Problem"
   ]
  },
  {
   "cell_type": "markdown",
   "id": "57da8730-1b83-4d53-9287-277ea73d70fa",
   "metadata": {},
   "source": [
    "Io actually visualize this problem, I utilized **Bing AI Co-Pilot Image Generator** by Microsoft Designer. "
   ]
  },
  {
   "cell_type": "markdown",
   "id": "0bfac94b-8a6b-4464-b69e-aa06738ec5db",
   "metadata": {},
   "source": [
    "<img src=\"bing.png\" width=\"100%\"/>"
   ]
  },
  {
   "cell_type": "markdown",
   "id": "685bdfb5-d19c-4a27-aa73-6490ddc8a858",
   "metadata": {},
   "source": [
    "This LLM failed to even generate one photo with 4 trees. All of the photos have 3, 5, or more trees."
   ]
  },
  {
   "cell_type": "code",
   "execution_count": null,
   "id": "871a9135-4793-412c-b2d1-8d411f75c268",
   "metadata": {},
   "outputs": [],
   "source": []
  }
 ],
 "metadata": {
  "citation-manager": {
   "items": {}
  },
  "kernelspec": {
   "display_name": "Python 3.11 (COMM4190)",
   "language": "python",
   "name": "comm4190"
  },
  "language_info": {
   "codemirror_mode": {
    "name": "ipython",
    "version": 3
   },
   "file_extension": ".py",
   "mimetype": "text/x-python",
   "name": "python",
   "nbconvert_exporter": "python",
   "pygments_lexer": "ipython3",
   "version": "3.11.7"
  }
 },
 "nbformat": 4,
 "nbformat_minor": 5
}
